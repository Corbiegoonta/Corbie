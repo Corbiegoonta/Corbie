{
 "cells": [
  {
   "cell_type": "code",
   "execution_count": null,
   "metadata": {},
   "outputs": [],
   "source": [
    "import qvcapi\n"
   ]
  }
 ],
 "metadata": {
  "kernelspec": {
   "display_name": "base",
   "language": "python",
   "name": "python3"
  },
  "language_info": {
   "name": "python",
   "version": "3.10.9"
  },
  "orig_nbformat": 4,
  "vscode": {
   "interpreter": {
    "hash": "6f002d78306b8ba739a5995b5795407582927cfacefdaa0307755780bed012e1"
   }
  }
 },
 "nbformat": 4,
 "nbformat_minor": 2
}
